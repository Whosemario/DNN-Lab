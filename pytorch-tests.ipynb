{
 "cells": [
  {
   "cell_type": "markdown",
   "id": "0883df80",
   "metadata": {},
   "source": [
    "生成数据"
   ]
  },
  {
   "cell_type": "code",
   "execution_count": 30,
   "id": "c1c9cd0a",
   "metadata": {},
   "outputs": [],
   "source": [
    "import pandas as pd\n",
    "import math\n",
    "import random\n",
    "total_len = 1000\n",
    "test_df = pd.DataFrame({\"val\": list(range(total_len))})\n",
    "test_df[\"val\"] = test_df[\"val\"] / 100\n",
    "test_df[\"val\"] = test_df[\"val\"].apply(lambda x: math.sin(x) * 100 + (random.randint(-10, 10)))"
   ]
  },
  {
   "cell_type": "markdown",
   "id": "2fbdf085",
   "metadata": {},
   "source": [
    "对数据进行切割"
   ]
  },
  {
   "cell_type": "code",
   "execution_count": 31,
   "id": "b16638b5",
   "metadata": {},
   "outputs": [],
   "source": [
    "import numpy as np\n",
    "from sklearn.model_selection import train_test_split\n",
    "import torch\n",
    "day_len = 15\n",
    "x = np.array(test_df['val'][0:day_len])\n",
    "y = np.array(test_df['val'][day_len])\n",
    "for i in range(1, total_len - day_len):\n",
    "    start_index = i\n",
    "    end_index = i + day_len\n",
    "    x = np.vstack((x, test_df['val'][start_index:end_index]))\n",
    "    y = np.vstack((y, test_df['val'][end_index]))\n",
    "train_x, test_x = train_test_split(x, shuffle=False)\n",
    "train_y, test_y = train_test_split(y, shuffle=False)"
   ]
  },
  {
   "cell_type": "code",
   "execution_count": 32,
   "id": "04ead4bd",
   "metadata": {},
   "outputs": [
    {
     "name": "stdout",
     "output_type": "stream",
     "text": [
      "tensor([-1.0000e+00, -6.0000e+00, -3.0001e+00, -3.0004e+00, -1.0666e-03,\n",
      "        -3.0021e+00, -2.0036e+00,  9.9943e+00,  1.5991e+01,  5.9879e+00,\n",
      "         1.8983e+01,  4.9778e+00,  1.1971e+01,  1.1963e+01,  2.0954e+01])\n"
     ]
    }
   ],
   "source": [
    "import torch\n",
    "# 初始化一个随机数，为什么呢？\n",
    "# myseed = 42069  # set a random seed for reproducibility\n",
    "# torch.backends.cudnn.deterministic = True\n",
    "# torch.backends.cudnn.benchmark = False\n",
    "# np.random.seed(myseed)\n",
    "# torch.manual_seed(myseed)\n",
    "# if torch.cuda.is_available():\n",
    "#     torch.cuda.manual_seed_all(myseed)\n",
    "# 把设备信息获取一下\n",
    "# device = \"cuda\" if torch.cuda.is_available() else \"cpu\"\n",
    "\n",
    "train_x = torch.from_numpy(train_x).to(torch.float32)\n",
    "train_y = torch.from_numpy(train_y).to(torch.float32)\n",
    "test_x = torch.from_numpy(test_x).to(torch.float32)\n",
    "test_y = torch.from_numpy(test_y).to(torch.float32)\n",
    "print(train_x[0])"
   ]
  },
  {
   "cell_type": "markdown",
   "id": "566b404f",
   "metadata": {},
   "source": [
    "创建模型"
   ]
  },
  {
   "cell_type": "code",
   "execution_count": 33,
   "id": "e8853713",
   "metadata": {},
   "outputs": [],
   "source": [
    "import torch.nn as nn\n",
    "from torch.utils.data import Dataset, DataLoader\n",
    "MODE_TRAIN=1\n",
    "MODE_PREDICT=2\n",
    "class MyDataset(Dataset):\n",
    "\n",
    "    def __init__(self, mode, data, target):\n",
    "        \"\"\"\n",
    "        @param\n",
    "            mode: TRAIN/PREDICT\n",
    "            data: input数据\n",
    "            target: 结果数据\n",
    "        \"\"\"\n",
    "        self.mode = mode\n",
    "        self.data = data\n",
    "        self.target = target\n",
    "        self.dim = data.shape[1]\n",
    "        \n",
    "    def __getitem__(self, index):\n",
    "        # Returns one sample at a time\n",
    "        if self.mode in (MODE_TRAIN, ):\n",
    "            # For training\n",
    "            return self.data[index], self.target[index]\n",
    "        else:\n",
    "            # For predict (no target)\n",
    "            return self.data[index]\n",
    "\n",
    "    def __len__(self):\n",
    "        # Returns the size of the dataset\n",
    "        return len(self.data)\n",
    "    \n",
    "dl = DataLoader(MyDataset(MODE_TRAIN, train_x, train_y), batch_size=1, shuffle=True)\n"
   ]
  },
  {
   "cell_type": "markdown",
   "id": "e6ca29c5",
   "metadata": {},
   "source": [
    "定义一个神经网络类"
   ]
  },
  {
   "cell_type": "code",
   "execution_count": 41,
   "id": "4a2ae253",
   "metadata": {},
   "outputs": [],
   "source": [
    "class NeuralNetwork(nn.Module):\n",
    "    def __init__(self, input_dim):\n",
    "        super(NeuralNetwork, self).__init__()\n",
    "        self.net = nn.Sequential(\n",
    "            nn.Linear(input_dim, 5),\n",
    "            nn.Linear(5, 1)\n",
    "        )\n",
    "\n",
    "        # Mean squared error loss\n",
    "        self.criterion = nn.MSELoss(reduction='mean')\n",
    "        \n",
    "        self.device = \"cuda\" if torch.cuda.is_available() else \"cpu\"\n",
    "        \n",
    "    def forward(self, x):\n",
    "        \"\"\" x = batchsize * dim \"\"\"\n",
    "        return self.net(x)\n",
    "\n",
    "    def cal_loss(self, pred, target):\n",
    "        ''' Calculate loss '''\n",
    "        return self.criterion(pred, target)\n",
    "    \n",
    "    @staticmethod\n",
    "    def fit(dl, epochs):\n",
    "        model = NeuralNetwork(dl.dataset.dim)\n",
    "        model = model.to(model.device)\n",
    "        optimizer = torch.optim.RMSprop(model.parameters())\n",
    "        epoch = 0\n",
    "        while epoch < epochs:\n",
    "            total_loss = 0\n",
    "            model.train()                           # set model to training mode\n",
    "            for x, y in dl:                         # iterate through the dataloader\n",
    "                optimizer.zero_grad()               # set gradient to zero\n",
    "                x, y = x.to(device), y.to(device)   # move data to device (cpu/cuda)\n",
    "                pred = model(x)                     # forward pass (compute output)\n",
    "                mse_loss = model.cal_loss(pred, y)  # compute loss\n",
    "                mse_loss.backward()                 # compute gradient (backpropagation)\n",
    "                optimizer.step()                    # update model with optimizer\n",
    "                total_loss += mse_loss.detach().cpu().item() * len(x)\n",
    "            total_loss = total_loss / len(dl.dataset)\n",
    "            epoch += 1\n",
    "            print(\"Saving model (epoch = {:d}/{:d}, loss = {:.4f})\".format(epoch, epochs, total_loss))\n",
    "        return model\n",
    "    \n",
    "    def predict(self, dl):\n",
    "        self.eval()\n",
    "        preds = []\n",
    "        for x in dl:                                     # iterate through the dataloader\n",
    "            x = x.to(self.device)                        # move data to device (cpu/cuda)\n",
    "            with torch.no_grad():                        # disable gradient calculation\n",
    "                pred = model(x)                          # forward pass (compute output)\n",
    "                preds.append(pred.detach().cpu())        # collect prediction\n",
    "        preds = torch.cat(preds, dim=0).numpy()          # concatenate all predictions and convert to a numpy array\n",
    "        return preds\n",
    "        "
   ]
  },
  {
   "cell_type": "code",
   "execution_count": 42,
   "id": "51477a69",
   "metadata": {},
   "outputs": [
    {
     "name": "stdout",
     "output_type": "stream",
     "text": [
      "Saving model (epoch = 1/100, loss = 142.6378)\n",
      "Saving model (epoch = 2/100, loss = 80.7508)\n",
      "Saving model (epoch = 3/100, loss = 76.6267)\n",
      "Saving model (epoch = 4/100, loss = 70.6608)\n",
      "Saving model (epoch = 5/100, loss = 75.7353)\n",
      "Saving model (epoch = 6/100, loss = 74.5938)\n",
      "Saving model (epoch = 7/100, loss = 69.7673)\n",
      "Saving model (epoch = 8/100, loss = 72.4402)\n",
      "Saving model (epoch = 9/100, loss = 73.7320)\n",
      "Saving model (epoch = 10/100, loss = 64.5175)\n",
      "Saving model (epoch = 11/100, loss = 71.7878)\n",
      "Saving model (epoch = 12/100, loss = 72.3360)\n",
      "Saving model (epoch = 13/100, loss = 73.1998)\n",
      "Saving model (epoch = 14/100, loss = 72.9877)\n",
      "Saving model (epoch = 15/100, loss = 71.1659)\n",
      "Saving model (epoch = 16/100, loss = 73.9616)\n",
      "Saving model (epoch = 17/100, loss = 71.4546)\n",
      "Saving model (epoch = 18/100, loss = 80.8947)\n",
      "Saving model (epoch = 19/100, loss = 69.1544)\n",
      "Saving model (epoch = 20/100, loss = 73.0271)\n",
      "Saving model (epoch = 21/100, loss = 70.9457)\n",
      "Saving model (epoch = 22/100, loss = 68.9298)\n",
      "Saving model (epoch = 23/100, loss = 71.9411)\n",
      "Saving model (epoch = 24/100, loss = 68.8507)\n",
      "Saving model (epoch = 25/100, loss = 76.5133)\n",
      "Saving model (epoch = 26/100, loss = 70.6537)\n",
      "Saving model (epoch = 27/100, loss = 73.0823)\n",
      "Saving model (epoch = 28/100, loss = 72.9568)\n",
      "Saving model (epoch = 29/100, loss = 69.7884)\n",
      "Saving model (epoch = 30/100, loss = 70.3360)\n",
      "Saving model (epoch = 31/100, loss = 71.9551)\n",
      "Saving model (epoch = 32/100, loss = 71.3228)\n",
      "Saving model (epoch = 33/100, loss = 69.0809)\n",
      "Saving model (epoch = 34/100, loss = 72.0374)\n",
      "Saving model (epoch = 35/100, loss = 71.5917)\n",
      "Saving model (epoch = 36/100, loss = 71.0904)\n",
      "Saving model (epoch = 37/100, loss = 72.0955)\n",
      "Saving model (epoch = 38/100, loss = 71.1498)\n",
      "Saving model (epoch = 39/100, loss = 70.6164)\n",
      "Saving model (epoch = 40/100, loss = 72.3040)\n",
      "Saving model (epoch = 41/100, loss = 74.3312)\n",
      "Saving model (epoch = 42/100, loss = 72.4548)\n",
      "Saving model (epoch = 43/100, loss = 68.0065)\n",
      "Saving model (epoch = 44/100, loss = 73.9695)\n",
      "Saving model (epoch = 45/100, loss = 71.1577)\n",
      "Saving model (epoch = 46/100, loss = 72.0658)\n",
      "Saving model (epoch = 47/100, loss = 68.1599)\n",
      "Saving model (epoch = 48/100, loss = 70.9961)\n",
      "Saving model (epoch = 49/100, loss = 70.1314)\n",
      "Saving model (epoch = 50/100, loss = 74.7343)\n",
      "Saving model (epoch = 51/100, loss = 67.3092)\n",
      "Saving model (epoch = 52/100, loss = 67.3651)\n",
      "Saving model (epoch = 53/100, loss = 75.2487)\n",
      "Saving model (epoch = 54/100, loss = 71.3033)\n",
      "Saving model (epoch = 55/100, loss = 67.6977)\n",
      "Saving model (epoch = 56/100, loss = 70.1555)\n",
      "Saving model (epoch = 57/100, loss = 69.7810)\n",
      "Saving model (epoch = 58/100, loss = 70.5927)\n",
      "Saving model (epoch = 59/100, loss = 72.0821)\n",
      "Saving model (epoch = 60/100, loss = 68.7829)\n",
      "Saving model (epoch = 61/100, loss = 70.5479)\n",
      "Saving model (epoch = 62/100, loss = 69.9228)\n",
      "Saving model (epoch = 63/100, loss = 72.0805)\n",
      "Saving model (epoch = 64/100, loss = 72.1097)\n",
      "Saving model (epoch = 65/100, loss = 66.3029)\n",
      "Saving model (epoch = 66/100, loss = 66.6793)\n",
      "Saving model (epoch = 67/100, loss = 71.7179)\n",
      "Saving model (epoch = 68/100, loss = 70.3771)\n",
      "Saving model (epoch = 69/100, loss = 70.0552)\n",
      "Saving model (epoch = 70/100, loss = 73.2937)\n",
      "Saving model (epoch = 71/100, loss = 68.6396)\n",
      "Saving model (epoch = 72/100, loss = 70.2557)\n",
      "Saving model (epoch = 73/100, loss = 72.5652)\n",
      "Saving model (epoch = 74/100, loss = 68.9749)\n",
      "Saving model (epoch = 75/100, loss = 70.2016)\n",
      "Saving model (epoch = 76/100, loss = 69.8318)\n",
      "Saving model (epoch = 77/100, loss = 69.3418)\n",
      "Saving model (epoch = 78/100, loss = 73.0603)\n",
      "Saving model (epoch = 79/100, loss = 71.8571)\n",
      "Saving model (epoch = 80/100, loss = 70.4055)\n",
      "Saving model (epoch = 81/100, loss = 69.9574)\n",
      "Saving model (epoch = 82/100, loss = 65.6852)\n",
      "Saving model (epoch = 83/100, loss = 72.3790)\n",
      "Saving model (epoch = 84/100, loss = 69.9204)\n",
      "Saving model (epoch = 85/100, loss = 71.1462)\n",
      "Saving model (epoch = 86/100, loss = 72.6109)\n",
      "Saving model (epoch = 87/100, loss = 76.1237)\n",
      "Saving model (epoch = 88/100, loss = 69.9785)\n",
      "Saving model (epoch = 89/100, loss = 71.4301)\n",
      "Saving model (epoch = 90/100, loss = 70.2274)\n",
      "Saving model (epoch = 91/100, loss = 71.6620)\n",
      "Saving model (epoch = 92/100, loss = 69.8090)\n",
      "Saving model (epoch = 93/100, loss = 72.5767)\n",
      "Saving model (epoch = 94/100, loss = 71.7150)\n",
      "Saving model (epoch = 95/100, loss = 69.6329)\n",
      "Saving model (epoch = 96/100, loss = 72.6278)\n",
      "Saving model (epoch = 97/100, loss = 71.2776)\n",
      "Saving model (epoch = 98/100, loss = 74.7476)\n",
      "Saving model (epoch = 99/100, loss = 70.7464)\n",
      "Saving model (epoch = 100/100, loss = 67.9810)\n"
     ]
    }
   ],
   "source": [
    "model = NeuralNetwork.fit(dl, epochs=100)"
   ]
  },
  {
   "cell_type": "code",
   "execution_count": 48,
   "id": "4b867cdf",
   "metadata": {},
   "outputs": [],
   "source": [
    "dl_test = DataLoader(MyDataset(MODE_PREDICT, test_x, None), batch_size=1, shuffle=False)\n",
    "result = model.predict(dl_test)"
   ]
  },
  {
   "cell_type": "code",
   "execution_count": 49,
   "id": "22fefcef",
   "metadata": {},
   "outputs": [
    {
     "data": {
      "image/png": "[encoded data removed]",
      "text/plain": [
       "<Figure size 640x480 with 1 Axes>"
      ]
     },
     "metadata": {},
     "output_type": "display_data"
    },
    {
     "name": "stdout",
     "output_type": "stream",
     "text": [
      "mse: 63.06692886352539\n"
     ]
    }
   ],
   "source": [
    "import matplotlib.pyplot as plt\n",
    "from sklearn.metrics import mean_squared_error\n",
    "x = list(range(len(test_y[:, 0])))\n",
    "# plot\n",
    "fig, ax = plt.subplots()\n",
    "ax.plot(x, test_y[:, 0], linewidth=0.5, label=\"actual\")\n",
    "ax.plot(x, result[:, 0], linewidth=0.5, label=\"predict\")\n",
    "plt.show()\n",
    "print(f'mse: {mean_squared_error(test_y[:, 0], result[:, 0])}')"
   ]
  },
  {
   "cell_type": "code",
   "execution_count": null,
   "id": "7d465a4d",
   "metadata": {},
   "outputs": [],
   "source": []
  }
 ],
 "metadata": {
  "kernelspec": {
   "display_name": "Python 3 (ipykernel)",
   "language": "python",
   "name": "python3"
  },
  "language_info": {
   "codemirror_mode": {
    "name": "ipython",
    "version": 3
   },
   "file_extension": ".py",
   "mimetype": "text/x-python",
   "name": "python",
   "nbconvert_exporter": "python",
   "pygments_lexer": "ipython3",
   "version": "3.9.13"
  }
 },
 "nbformat": 4,
 "nbformat_minor": 5
}
