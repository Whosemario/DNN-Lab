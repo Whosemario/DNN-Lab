{
 "cells": [
  {
   "cell_type": "code",
   "execution_count": 1,
   "id": "4f997cd9",
   "metadata": {},
   "outputs": [],
   "source": [
    "import tensorflow as tf\n",
    "from tensorflow import keras\n",
    "from tensorflow.keras import layers"
   ]
  },
  {
   "cell_type": "markdown",
   "id": "92cc4dd1",
   "metadata": {},
   "source": [
    "尝试生成一些正弦函数数据"
   ]
  },
  {
   "cell_type": "code",
   "execution_count": 2,
   "id": "5b07c1f7",
   "metadata": {},
   "outputs": [
    {
     "name": "stdout",
     "output_type": "stream",
     "text": [
      "           val\n",
      "0    -5.000000\n",
      "1    -5.000017\n",
      "2    -5.000133\n",
      "3    -2.000450\n",
      "4     1.998933\n",
      "..         ...\n",
      "995 -41.140513\n",
      "996 -47.003204\n",
      "997 -46.860795\n",
      "998 -62.713200\n",
      "999 -61.560333\n",
      "\n",
      "[1000 rows x 1 columns]\n"
     ]
    }
   ],
   "source": [
    "import pandas as pd\n",
    "import math\n",
    "import random\n",
    "total_len = 1000\n",
    "test_df = pd.DataFrame({\"val\": list(range(total_len))})\n",
    "test_df[\"val\"] = test_df[\"val\"] / 100\n",
    "test_df[\"val\"] = test_df[\"val\"].apply(lambda x: math.sin(x) * 100 + (random.randint(-10, 10)))\n",
    "print(test_df)"
   ]
  },
  {
   "cell_type": "markdown",
   "id": "bb4e9727",
   "metadata": {},
   "source": [
    "将数据进行切割"
   ]
  },
  {
   "cell_type": "code",
   "execution_count": 32,
   "id": "ece82167",
   "metadata": {},
   "outputs": [
    {
     "name": "stdout",
     "output_type": "stream",
     "text": [
      "<class 'numpy.ndarray'>\n"
     ]
    }
   ],
   "source": [
    "import numpy as np\n",
    "from sklearn.model_selection import train_test_split\n",
    "day_len = 15\n",
    "x = np.array(test_df['val'][0:day_len])\n",
    "y = np.array(test_df['val'][day_len])\n",
    "for i in range(1, total_len - day_len):\n",
    "    start_index = i\n",
    "    end_index = i + day_len\n",
    "    x = np.vstack((x, test_df['val'][start_index:end_index]))\n",
    "    y = np.vstack((y, test_df['val'][end_index]))\n",
    "train_x, test_x = train_test_split(x, shuffle=False)\n",
    "train_y, test_y = train_test_split(y, shuffle=False)\n",
    "train_x = train_x.reshape(train_x.shape[0], train_x.shape[1], -1)\n",
    "test_x = test_x.reshape(test_x.shape[0], test_x.shape[1], -1)\n",
    "print(type(train_x))"
   ]
  },
  {
   "cell_type": "markdown",
   "id": "9b2bdad1",
   "metadata": {},
   "source": [
    "构建一个model"
   ]
  },
  {
   "cell_type": "code",
   "execution_count": 42,
   "id": "6e91d9d2",
   "metadata": {},
   "outputs": [],
   "source": [
    "def create_model():\n",
    "    model = keras.Sequential([\n",
    "#         layers.LSTM(100, dropout=0.2, return_sequences=True),\n",
    "#         layers.LSTM(100, dropout=0.2),\n",
    "        layers.Dense(5, ),# activation=\"relu\" 加上这个参数后，拟合就比较差了\n",
    "        layers.Dense(1)\n",
    "    ])\n",
    "    model.compile(loss='mse', optimizer='rmsprop')\n",
    "    return model"
   ]
  },
  {
   "cell_type": "code",
   "execution_count": 40,
   "id": "c2ffabf5",
   "metadata": {},
   "outputs": [
    {
     "name": "stdout",
     "output_type": "stream",
     "text": [
      "Epoch 1/100\n",
      "17/17 [==============================] - 0s 8ms/step - loss: 4914.3530 - val_loss: 2671.6665\n",
      "Epoch 2/100\n",
      "17/17 [==============================] - 0s 2ms/step - loss: 4340.8062 - val_loss: 2367.9646\n",
      "Epoch 3/100\n",
      "17/17 [==============================] - 0s 2ms/step - loss: 3839.6865 - val_loss: 2089.0823\n",
      "Epoch 4/100\n",
      "17/17 [==============================] - 0s 2ms/step - loss: 3367.0166 - val_loss: 1826.5925\n",
      "Epoch 5/100\n",
      "17/17 [==============================] - 0s 2ms/step - loss: 2920.6697 - val_loss: 1576.5256\n",
      "Epoch 6/100\n",
      "17/17 [==============================] - 0s 2ms/step - loss: 2496.0100 - val_loss: 1333.4119\n",
      "Epoch 7/100\n",
      "17/17 [==============================] - 0s 2ms/step - loss: 2095.1584 - val_loss: 1120.7621\n",
      "Epoch 8/100\n",
      "17/17 [==============================] - 0s 2ms/step - loss: 1735.1429 - val_loss: 915.3303\n",
      "Epoch 9/100\n",
      "17/17 [==============================] - 0s 2ms/step - loss: 1393.0123 - val_loss: 727.8262\n",
      "Epoch 10/100\n",
      "17/17 [==============================] - 0s 2ms/step - loss: 1085.1854 - val_loss: 563.8292\n",
      "Epoch 11/100\n",
      "17/17 [==============================] - 0s 3ms/step - loss: 817.0777 - val_loss: 425.6350\n",
      "Epoch 12/100\n",
      "17/17 [==============================] - 0s 2ms/step - loss: 591.8282 - val_loss: 312.8133\n",
      "Epoch 13/100\n",
      "17/17 [==============================] - 0s 2ms/step - loss: 412.0750 - val_loss: 225.0703\n",
      "Epoch 14/100\n",
      "17/17 [==============================] - 0s 2ms/step - loss: 275.5820 - val_loss: 165.5955\n",
      "Epoch 15/100\n",
      "17/17 [==============================] - 0s 3ms/step - loss: 185.7220 - val_loss: 131.3479\n",
      "Epoch 16/100\n",
      "17/17 [==============================] - 0s 2ms/step - loss: 137.0693 - val_loss: 118.0003\n",
      "Epoch 17/100\n",
      "17/17 [==============================] - 0s 2ms/step - loss: 119.7029 - val_loss: 116.6915\n",
      "Epoch 18/100\n",
      "17/17 [==============================] - 0s 2ms/step - loss: 116.5170 - val_loss: 116.9385\n",
      "Epoch 19/100\n",
      "17/17 [==============================] - 0s 2ms/step - loss: 116.5284 - val_loss: 117.8147\n",
      "Epoch 20/100\n",
      "17/17 [==============================] - 0s 2ms/step - loss: 116.2749 - val_loss: 119.6378\n",
      "Epoch 21/100\n",
      "17/17 [==============================] - 0s 2ms/step - loss: 116.2707 - val_loss: 118.8834\n",
      "Epoch 22/100\n",
      "17/17 [==============================] - 0s 2ms/step - loss: 116.2305 - val_loss: 118.9743\n",
      "Epoch 23/100\n",
      "17/17 [==============================] - 0s 2ms/step - loss: 116.0503 - val_loss: 120.8082\n",
      "Epoch 24/100\n",
      "17/17 [==============================] - 0s 2ms/step - loss: 115.8247 - val_loss: 119.8972\n",
      "Epoch 25/100\n",
      "17/17 [==============================] - 0s 2ms/step - loss: 115.8443 - val_loss: 120.4638\n",
      "Epoch 26/100\n",
      "17/17 [==============================] - 0s 2ms/step - loss: 115.7833 - val_loss: 121.3841\n",
      "Epoch 27/100\n",
      "17/17 [==============================] - 0s 2ms/step - loss: 115.6279 - val_loss: 121.9323\n",
      "Epoch 28/100\n",
      "17/17 [==============================] - 0s 2ms/step - loss: 115.7643 - val_loss: 121.6011\n",
      "Epoch 29/100\n",
      "17/17 [==============================] - 0s 2ms/step - loss: 115.6408 - val_loss: 122.9809\n",
      "Epoch 30/100\n",
      "17/17 [==============================] - 0s 2ms/step - loss: 115.3139 - val_loss: 122.7467\n",
      "Epoch 31/100\n",
      "17/17 [==============================] - 0s 2ms/step - loss: 115.3385 - val_loss: 125.0500\n",
      "Epoch 32/100\n",
      "17/17 [==============================] - 0s 2ms/step - loss: 115.3922 - val_loss: 123.4868\n",
      "Epoch 33/100\n",
      "17/17 [==============================] - 0s 2ms/step - loss: 114.9976 - val_loss: 123.7225\n",
      "Epoch 34/100\n",
      "17/17 [==============================] - 0s 2ms/step - loss: 115.3540 - val_loss: 124.2126\n",
      "Epoch 35/100\n",
      "17/17 [==============================] - 0s 2ms/step - loss: 115.0458 - val_loss: 125.0035\n",
      "Epoch 36/100\n",
      "17/17 [==============================] - 0s 2ms/step - loss: 114.7649 - val_loss: 124.9314\n",
      "Epoch 37/100\n",
      "17/17 [==============================] - 0s 2ms/step - loss: 115.1743 - val_loss: 125.9578\n",
      "Epoch 38/100\n",
      "17/17 [==============================] - 0s 2ms/step - loss: 114.8154 - val_loss: 126.6214\n",
      "Epoch 39/100\n",
      "17/17 [==============================] - 0s 2ms/step - loss: 114.9580 - val_loss: 126.4029\n",
      "Epoch 40/100\n",
      "17/17 [==============================] - 0s 2ms/step - loss: 114.6973 - val_loss: 126.5809\n",
      "Epoch 41/100\n",
      "17/17 [==============================] - 0s 2ms/step - loss: 114.7961 - val_loss: 127.1898\n",
      "Epoch 42/100\n",
      "17/17 [==============================] - 0s 2ms/step - loss: 114.6959 - val_loss: 128.2517\n",
      "Epoch 43/100\n",
      "17/17 [==============================] - 0s 2ms/step - loss: 114.4674 - val_loss: 128.6350\n",
      "Epoch 44/100\n",
      "17/17 [==============================] - 0s 2ms/step - loss: 114.8405 - val_loss: 128.2637\n",
      "Epoch 45/100\n",
      "17/17 [==============================] - 0s 2ms/step - loss: 114.3808 - val_loss: 131.2452\n",
      "Epoch 46/100\n",
      "17/17 [==============================] - 0s 2ms/step - loss: 115.0374 - val_loss: 130.4841\n",
      "Epoch 47/100\n",
      "17/17 [==============================] - 0s 2ms/step - loss: 114.6609 - val_loss: 129.0475\n",
      "Epoch 48/100\n",
      "17/17 [==============================] - 0s 2ms/step - loss: 114.7740 - val_loss: 130.1483\n",
      "Epoch 49/100\n",
      "17/17 [==============================] - 0s 2ms/step - loss: 114.3121 - val_loss: 131.2881\n",
      "Epoch 50/100\n",
      "17/17 [==============================] - 0s 2ms/step - loss: 114.7053 - val_loss: 130.0277\n",
      "Epoch 51/100\n",
      "17/17 [==============================] - 0s 2ms/step - loss: 114.3392 - val_loss: 132.0143\n",
      "Epoch 52/100\n",
      "17/17 [==============================] - 0s 2ms/step - loss: 114.3640 - val_loss: 130.4303\n",
      "Epoch 53/100\n",
      "17/17 [==============================] - 0s 2ms/step - loss: 114.3600 - val_loss: 131.3508\n",
      "Epoch 54/100\n",
      "17/17 [==============================] - 0s 2ms/step - loss: 114.2802 - val_loss: 131.1081\n",
      "Epoch 55/100\n",
      "17/17 [==============================] - 0s 2ms/step - loss: 114.4878 - val_loss: 131.4325\n",
      "Epoch 56/100\n",
      "17/17 [==============================] - 0s 2ms/step - loss: 114.3763 - val_loss: 131.5890\n",
      "Epoch 57/100\n",
      "17/17 [==============================] - 0s 2ms/step - loss: 114.2332 - val_loss: 134.2938\n",
      "Epoch 58/100\n",
      "17/17 [==============================] - 0s 2ms/step - loss: 114.5445 - val_loss: 132.9321\n",
      "Epoch 59/100\n",
      "17/17 [==============================] - 0s 2ms/step - loss: 114.3488 - val_loss: 133.7002\n",
      "Epoch 60/100\n",
      "17/17 [==============================] - 0s 2ms/step - loss: 114.0995 - val_loss: 132.9376\n",
      "Epoch 61/100\n",
      "17/17 [==============================] - 0s 2ms/step - loss: 114.1020 - val_loss: 134.0429\n",
      "Epoch 62/100\n",
      "17/17 [==============================] - 0s 2ms/step - loss: 114.2221 - val_loss: 133.4424\n",
      "Epoch 63/100\n",
      "17/17 [==============================] - 0s 2ms/step - loss: 114.0226 - val_loss: 133.3772\n",
      "Epoch 64/100\n",
      "17/17 [==============================] - 0s 2ms/step - loss: 114.1770 - val_loss: 133.7269\n",
      "Epoch 65/100\n",
      "17/17 [==============================] - 0s 2ms/step - loss: 114.0869 - val_loss: 133.8935\n",
      "Epoch 66/100\n",
      "17/17 [==============================] - 0s 2ms/step - loss: 114.0093 - val_loss: 135.1747\n",
      "Epoch 67/100\n",
      "17/17 [==============================] - 0s 2ms/step - loss: 114.1458 - val_loss: 135.7212\n",
      "Epoch 68/100\n",
      "17/17 [==============================] - 0s 2ms/step - loss: 113.8186 - val_loss: 134.0893\n",
      "Epoch 69/100\n",
      "17/17 [==============================] - 0s 2ms/step - loss: 114.3791 - val_loss: 135.8182\n",
      "Epoch 70/100\n",
      "17/17 [==============================] - 0s 2ms/step - loss: 114.1641 - val_loss: 136.8792\n",
      "Epoch 71/100\n",
      "17/17 [==============================] - 0s 2ms/step - loss: 113.9733 - val_loss: 135.1131\n",
      "Epoch 72/100\n",
      "17/17 [==============================] - 0s 2ms/step - loss: 114.0688 - val_loss: 134.9817\n",
      "Epoch 73/100\n",
      "17/17 [==============================] - 0s 2ms/step - loss: 114.0550 - val_loss: 136.5125\n",
      "Epoch 74/100\n",
      "17/17 [==============================] - 0s 2ms/step - loss: 114.0575 - val_loss: 137.1800\n",
      "Epoch 75/100\n",
      "17/17 [==============================] - 0s 2ms/step - loss: 114.1346 - val_loss: 135.7346\n",
      "Epoch 76/100\n",
      "17/17 [==============================] - 0s 2ms/step - loss: 114.1344 - val_loss: 135.8791\n",
      "Epoch 77/100\n",
      "17/17 [==============================] - 0s 2ms/step - loss: 114.0965 - val_loss: 135.9903\n",
      "Epoch 78/100\n",
      "17/17 [==============================] - 0s 2ms/step - loss: 114.1905 - val_loss: 136.3997\n",
      "Epoch 79/100\n"
     ]
    },
    {
     "name": "stdout",
     "output_type": "stream",
     "text": [
      "17/17 [==============================] - 0s 2ms/step - loss: 113.6092 - val_loss: 136.4398\n",
      "Epoch 80/100\n",
      "17/17 [==============================] - 0s 2ms/step - loss: 114.1034 - val_loss: 136.6317\n",
      "Epoch 81/100\n",
      "17/17 [==============================] - 0s 2ms/step - loss: 113.9860 - val_loss: 137.7648\n",
      "Epoch 82/100\n",
      "17/17 [==============================] - 0s 2ms/step - loss: 114.2235 - val_loss: 136.7803\n",
      "Epoch 83/100\n",
      "17/17 [==============================] - 0s 2ms/step - loss: 113.9003 - val_loss: 137.6609\n",
      "Epoch 84/100\n",
      "17/17 [==============================] - 0s 2ms/step - loss: 113.8969 - val_loss: 136.9301\n",
      "Epoch 85/100\n",
      "17/17 [==============================] - 0s 2ms/step - loss: 113.8048 - val_loss: 138.1081\n",
      "Epoch 86/100\n",
      "17/17 [==============================] - 0s 2ms/step - loss: 114.0313 - val_loss: 137.0394\n",
      "Epoch 87/100\n",
      "17/17 [==============================] - 0s 2ms/step - loss: 114.0836 - val_loss: 137.2897\n",
      "Epoch 88/100\n",
      "17/17 [==============================] - 0s 2ms/step - loss: 114.0936 - val_loss: 137.7522\n",
      "Epoch 89/100\n",
      "17/17 [==============================] - 0s 2ms/step - loss: 113.9299 - val_loss: 138.1319\n",
      "Epoch 90/100\n",
      "17/17 [==============================] - 0s 2ms/step - loss: 113.9384 - val_loss: 139.1547\n",
      "Epoch 91/100\n",
      "17/17 [==============================] - 0s 2ms/step - loss: 113.9633 - val_loss: 137.4985\n",
      "Epoch 92/100\n",
      "17/17 [==============================] - 0s 2ms/step - loss: 114.1716 - val_loss: 138.0764\n",
      "Epoch 93/100\n",
      "17/17 [==============================] - 0s 2ms/step - loss: 114.0289 - val_loss: 137.7606\n",
      "Epoch 94/100\n",
      "17/17 [==============================] - 0s 2ms/step - loss: 114.3966 - val_loss: 139.4422\n",
      "Epoch 95/100\n",
      "17/17 [==============================] - 0s 2ms/step - loss: 113.8120 - val_loss: 138.9342\n",
      "Epoch 96/100\n",
      "17/17 [==============================] - 0s 2ms/step - loss: 113.8967 - val_loss: 139.4728\n",
      "Epoch 97/100\n",
      "17/17 [==============================] - 0s 2ms/step - loss: 114.0246 - val_loss: 139.6125\n",
      "Epoch 98/100\n",
      "17/17 [==============================] - 0s 2ms/step - loss: 114.0004 - val_loss: 137.9240\n",
      "Epoch 99/100\n",
      "17/17 [==============================] - 0s 2ms/step - loss: 113.9357 - val_loss: 138.0997\n",
      "Epoch 100/100\n",
      "17/17 [==============================] - 0s 2ms/step - loss: 113.9384 - val_loss: 139.9244\n",
      "8/8 [==============================] - 0s 856us/step\n"
     ]
    }
   ],
   "source": [
    "model = create_model()\n",
    "model.fit(train_x, train_y, epochs=100, validation_split=0.3)\n",
    "result = model.predict(test_x)"
   ]
  },
  {
   "cell_type": "code",
   "execution_count": 41,
   "id": "4512dd85",
   "metadata": {},
   "outputs": [
    {
     "data": {
      "image/png": "[encoded data removed]",
      "text/plain": [
       "<Figure size 640x480 with 1 Axes>"
      ]
     },
     "metadata": {},
     "output_type": "display_data"
    },
    {
     "name": "stdout",
     "output_type": "stream",
     "text": [
      "mse: 163.64522489949078\n"
     ]
    }
   ],
   "source": [
    "import matplotlib.pyplot as plt\n",
    "from sklearn.metrics import mean_squared_error\n",
    "x = list(range(len(test_y[:, 0])))\n",
    "# plot\n",
    "fig, ax = plt.subplots()\n",
    "ax.plot(x, test_y[:, 0], linewidth=0.5, label=\"actual\")\n",
    "ax.plot(x, result[:, 0], linewidth=0.5, label=\"predict\")\n",
    "plt.show()\n",
    "print(f'mse: {mean_squared_error(test_y[:, 0], result[:, 0])}')"
   ]
  },
  {
   "cell_type": "code",
   "execution_count": null,
   "id": "4a63e765",
   "metadata": {},
   "outputs": [],
   "source": []
  }
 ],
 "metadata": {
  "kernelspec": {
   "display_name": "Python 3 (ipykernel)",
   "language": "python",
   "name": "python3"
  },
  "language_info": {
   "codemirror_mode": {
    "name": "ipython",
    "version": 3
   },
   "file_extension": ".py",
   "mimetype": "text/x-python",
   "name": "python",
   "nbconvert_exporter": "python",
   "pygments_lexer": "ipython3",
   "version": "3.9.13"
  }
 },
 "nbformat": 4,
 "nbformat_minor": 5
}
